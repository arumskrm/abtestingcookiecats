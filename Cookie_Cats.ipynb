{
 "cells": [
  {
   "cell_type": "code",
   "execution_count": 56,
   "id": "015ee2ff",
   "metadata": {
    "execution": {
     "iopub.execute_input": "2022-04-12T16:41:36.880429Z",
     "iopub.status.busy": "2022-04-12T16:41:36.879231Z",
     "iopub.status.idle": "2022-04-12T16:41:38.843790Z",
     "shell.execute_reply": "2022-04-12T16:41:38.844328Z"
    },
    "papermill": {
     "duration": 2.014843,
     "end_time": "2022-04-12T16:41:38.844663",
     "exception": false,
     "start_time": "2022-04-12T16:41:36.829820",
     "status": "completed"
    },
    "tags": []
   },
   "outputs": [],
   "source": [
    "# Import libraries\n",
    "\n",
    "import numpy as np\n",
    "import pandas as pd\n",
    "import seaborn as sns\n",
    "import matplotlib.pyplot as plt\n",
    "\n",
    "import statsmodels.api as sm\n",
    "from scipy.stats import shapiro\n",
    "from scipy.stats import chisquare\n",
    "from scipy.stats import mannwhitneyu\n",
    "from scipy.stats import chi2_contingency\n",
    "\n",
    "import warnings\n",
    "warnings.filterwarnings(\"ignore\")\n",
    "\n",
    "pd.options.mode.chained_assignment = None"
   ]
  },
  {
   "cell_type": "code",
   "execution_count": 57,
   "id": "9cbdb7ae",
   "metadata": {
    "execution": {
     "iopub.execute_input": "2022-04-12T16:41:38.919874Z",
     "iopub.status.busy": "2022-04-12T16:41:38.919180Z",
     "iopub.status.idle": "2022-04-12T16:41:39.048217Z",
     "shell.execute_reply": "2022-04-12T16:41:39.048781Z"
    },
    "papermill": {
     "duration": 0.168827,
     "end_time": "2022-04-12T16:41:39.048953",
     "exception": false,
     "start_time": "2022-04-12T16:41:38.880126",
     "status": "completed"
    },
    "tags": []
   },
   "outputs": [
    {
     "data": {
      "text/html": [
       "<div>\n",
       "<style scoped>\n",
       "    .dataframe tbody tr th:only-of-type {\n",
       "        vertical-align: middle;\n",
       "    }\n",
       "\n",
       "    .dataframe tbody tr th {\n",
       "        vertical-align: top;\n",
       "    }\n",
       "\n",
       "    .dataframe thead th {\n",
       "        text-align: right;\n",
       "    }\n",
       "</style>\n",
       "<table border=\"1\" class=\"dataframe\">\n",
       "  <thead>\n",
       "    <tr style=\"text-align: right;\">\n",
       "      <th></th>\n",
       "      <th>userid</th>\n",
       "      <th>version</th>\n",
       "      <th>sum_gamerounds</th>\n",
       "      <th>retention_1</th>\n",
       "      <th>retention_7</th>\n",
       "    </tr>\n",
       "  </thead>\n",
       "  <tbody>\n",
       "    <tr>\n",
       "      <th>0</th>\n",
       "      <td>116</td>\n",
       "      <td>gate_30</td>\n",
       "      <td>3</td>\n",
       "      <td>False</td>\n",
       "      <td>False</td>\n",
       "    </tr>\n",
       "    <tr>\n",
       "      <th>1</th>\n",
       "      <td>337</td>\n",
       "      <td>gate_30</td>\n",
       "      <td>38</td>\n",
       "      <td>True</td>\n",
       "      <td>False</td>\n",
       "    </tr>\n",
       "    <tr>\n",
       "      <th>2</th>\n",
       "      <td>377</td>\n",
       "      <td>gate_40</td>\n",
       "      <td>165</td>\n",
       "      <td>True</td>\n",
       "      <td>False</td>\n",
       "    </tr>\n",
       "    <tr>\n",
       "      <th>3</th>\n",
       "      <td>483</td>\n",
       "      <td>gate_40</td>\n",
       "      <td>1</td>\n",
       "      <td>False</td>\n",
       "      <td>False</td>\n",
       "    </tr>\n",
       "    <tr>\n",
       "      <th>4</th>\n",
       "      <td>488</td>\n",
       "      <td>gate_40</td>\n",
       "      <td>179</td>\n",
       "      <td>True</td>\n",
       "      <td>True</td>\n",
       "    </tr>\n",
       "    <tr>\n",
       "      <th>...</th>\n",
       "      <td>...</td>\n",
       "      <td>...</td>\n",
       "      <td>...</td>\n",
       "      <td>...</td>\n",
       "      <td>...</td>\n",
       "    </tr>\n",
       "    <tr>\n",
       "      <th>90184</th>\n",
       "      <td>9999441</td>\n",
       "      <td>gate_40</td>\n",
       "      <td>97</td>\n",
       "      <td>True</td>\n",
       "      <td>False</td>\n",
       "    </tr>\n",
       "    <tr>\n",
       "      <th>90185</th>\n",
       "      <td>9999479</td>\n",
       "      <td>gate_40</td>\n",
       "      <td>30</td>\n",
       "      <td>False</td>\n",
       "      <td>False</td>\n",
       "    </tr>\n",
       "    <tr>\n",
       "      <th>90186</th>\n",
       "      <td>9999710</td>\n",
       "      <td>gate_30</td>\n",
       "      <td>28</td>\n",
       "      <td>True</td>\n",
       "      <td>False</td>\n",
       "    </tr>\n",
       "    <tr>\n",
       "      <th>90187</th>\n",
       "      <td>9999768</td>\n",
       "      <td>gate_40</td>\n",
       "      <td>51</td>\n",
       "      <td>True</td>\n",
       "      <td>False</td>\n",
       "    </tr>\n",
       "    <tr>\n",
       "      <th>90188</th>\n",
       "      <td>9999861</td>\n",
       "      <td>gate_40</td>\n",
       "      <td>16</td>\n",
       "      <td>False</td>\n",
       "      <td>False</td>\n",
       "    </tr>\n",
       "  </tbody>\n",
       "</table>\n",
       "<p>90189 rows × 5 columns</p>\n",
       "</div>"
      ],
      "text/plain": [
       "        userid  version  sum_gamerounds  retention_1  retention_7\n",
       "0          116  gate_30               3        False        False\n",
       "1          337  gate_30              38         True        False\n",
       "2          377  gate_40             165         True        False\n",
       "3          483  gate_40               1        False        False\n",
       "4          488  gate_40             179         True         True\n",
       "...        ...      ...             ...          ...          ...\n",
       "90184  9999441  gate_40              97         True        False\n",
       "90185  9999479  gate_40              30        False        False\n",
       "90186  9999710  gate_30              28         True        False\n",
       "90187  9999768  gate_40              51         True        False\n",
       "90188  9999861  gate_40              16        False        False\n",
       "\n",
       "[90189 rows x 5 columns]"
      ]
     },
     "execution_count": 57,
     "metadata": {},
     "output_type": "execute_result"
    }
   ],
   "source": [
    "# Load the data set\n",
    "\n",
    "df = pd.read_csv(\"cookie_cats.csv\")\n",
    "df"
   ]
  },
  {
   "cell_type": "code",
   "execution_count": 58,
   "id": "b5d0c111",
   "metadata": {
    "execution": {
     "iopub.execute_input": "2022-04-12T16:41:39.123088Z",
     "iopub.status.busy": "2022-04-12T16:41:39.122267Z",
     "iopub.status.idle": "2022-04-12T16:41:39.159740Z",
     "shell.execute_reply": "2022-04-12T16:41:39.158524Z"
    },
    "papermill": {
     "duration": 0.075843,
     "end_time": "2022-04-12T16:41:39.159966",
     "exception": false,
     "start_time": "2022-04-12T16:41:39.084123",
     "status": "completed"
    },
    "tags": []
   },
   "outputs": [
    {
     "name": "stdout",
     "output_type": "stream",
     "text": [
      "<class 'pandas.core.frame.DataFrame'>\n",
      "RangeIndex: 90189 entries, 0 to 90188\n",
      "Data columns (total 5 columns):\n",
      " #   Column          Non-Null Count  Dtype \n",
      "---  ------          --------------  ----- \n",
      " 0   userid          90189 non-null  int64 \n",
      " 1   version         90189 non-null  object\n",
      " 2   sum_gamerounds  90189 non-null  int64 \n",
      " 3   retention_1     90189 non-null  bool  \n",
      " 4   retention_7     90189 non-null  bool  \n",
      "dtypes: bool(2), int64(2), object(1)\n",
      "memory usage: 2.2+ MB\n"
     ]
    }
   ],
   "source": [
    "# Cek Informasi Dataset\n",
    "\n",
    "df.info()"
   ]
  },
  {
   "cell_type": "code",
   "execution_count": 59,
   "id": "b7dd7f97",
   "metadata": {
    "execution": {
     "iopub.execute_input": "2022-04-12T16:41:39.240270Z",
     "iopub.status.busy": "2022-04-12T16:41:39.239295Z",
     "iopub.status.idle": "2022-04-12T16:41:39.251611Z",
     "shell.execute_reply": "2022-04-12T16:41:39.252072Z"
    },
    "papermill": {
     "duration": 0.055499,
     "end_time": "2022-04-12T16:41:39.252263",
     "exception": false,
     "start_time": "2022-04-12T16:41:39.196764",
     "status": "completed"
    },
    "tags": []
   },
   "outputs": [
    {
     "data": {
      "text/plain": [
       "False"
      ]
     },
     "execution_count": 59,
     "metadata": {},
     "output_type": "execute_result"
    }
   ],
   "source": [
    "# cek data terduplikasi\n",
    "\n",
    "df.duplicated(subset=[\"userid\"]).any()"
   ]
  },
  {
   "cell_type": "markdown",
   "id": "3584d932",
   "metadata": {
    "papermill": {
     "duration": 0.035346,
     "end_time": "2022-04-12T16:41:39.323254",
     "exception": false,
     "start_time": "2022-04-12T16:41:39.287908",
     "status": "completed"
    },
    "tags": []
   },
   "source": [
    "- **90189 baris data** \n",
    "- **Tidak ada nilai null** \n",
    "- **Tidak ada duplikasi userid**"
   ]
  },
  {
   "cell_type": "code",
   "execution_count": 60,
   "id": "e8cd0cbd",
   "metadata": {
    "execution": {
     "iopub.execute_input": "2022-04-12T16:41:39.400911Z",
     "iopub.status.busy": "2022-04-12T16:41:39.399408Z",
     "iopub.status.idle": "2022-04-12T16:41:39.447306Z",
     "shell.execute_reply": "2022-04-12T16:41:39.446626Z"
    },
    "papermill": {
     "duration": 0.087647,
     "end_time": "2022-04-12T16:41:39.447496",
     "exception": false,
     "start_time": "2022-04-12T16:41:39.359849",
     "status": "completed"
    },
    "tags": []
   },
   "outputs": [
    {
     "data": {
      "text/html": [
       "<div>\n",
       "<style scoped>\n",
       "    .dataframe tbody tr th:only-of-type {\n",
       "        vertical-align: middle;\n",
       "    }\n",
       "\n",
       "    .dataframe tbody tr th {\n",
       "        vertical-align: top;\n",
       "    }\n",
       "\n",
       "    .dataframe thead th {\n",
       "        text-align: right;\n",
       "    }\n",
       "</style>\n",
       "<table border=\"1\" class=\"dataframe\">\n",
       "  <thead>\n",
       "    <tr style=\"text-align: right;\">\n",
       "      <th></th>\n",
       "      <th>group</th>\n",
       "      <th>sum_gamerounds</th>\n",
       "      <th>retention_1</th>\n",
       "      <th>retention_7</th>\n",
       "    </tr>\n",
       "  </thead>\n",
       "  <tbody>\n",
       "    <tr>\n",
       "      <th>0</th>\n",
       "      <td>A</td>\n",
       "      <td>3</td>\n",
       "      <td>False</td>\n",
       "      <td>False</td>\n",
       "    </tr>\n",
       "    <tr>\n",
       "      <th>1</th>\n",
       "      <td>A</td>\n",
       "      <td>38</td>\n",
       "      <td>True</td>\n",
       "      <td>False</td>\n",
       "    </tr>\n",
       "    <tr>\n",
       "      <th>2</th>\n",
       "      <td>B</td>\n",
       "      <td>165</td>\n",
       "      <td>True</td>\n",
       "      <td>False</td>\n",
       "    </tr>\n",
       "    <tr>\n",
       "      <th>3</th>\n",
       "      <td>B</td>\n",
       "      <td>1</td>\n",
       "      <td>False</td>\n",
       "      <td>False</td>\n",
       "    </tr>\n",
       "    <tr>\n",
       "      <th>4</th>\n",
       "      <td>B</td>\n",
       "      <td>179</td>\n",
       "      <td>True</td>\n",
       "      <td>True</td>\n",
       "    </tr>\n",
       "  </tbody>\n",
       "</table>\n",
       "</div>"
      ],
      "text/plain": [
       "  group  sum_gamerounds  retention_1  retention_7\n",
       "0     A               3        False        False\n",
       "1     A              38         True        False\n",
       "2     B             165         True        False\n",
       "3     B               1        False        False\n",
       "4     B             179         True         True"
      ]
     },
     "execution_count": 60,
     "metadata": {},
     "output_type": "execute_result"
    }
   ],
   "source": [
    "# Drop kolom 'userid' karena tidak akan digunakan pada eksperimen ini\n",
    "df.drop(columns=[\"userid\"], inplace=True)\n",
    "\n",
    "# Edit kolom 'version' menjadi 'group'\n",
    "df.rename(columns={\"version\": \"group\"},inplace=True)\n",
    "df[\"group\"] = np.where(df.group == \"gate_30\", \"A\", \"B\")\n",
    "df.loc[:,\"group\"]=df.group.astype(\"category\")\n",
    "\n",
    "# cek dateratas\n",
    "df.head()"
   ]
  },
  {
   "cell_type": "code",
   "execution_count": 61,
   "id": "24443d7c",
   "metadata": {
    "execution": {
     "iopub.execute_input": "2022-04-12T16:41:39.529403Z",
     "iopub.status.busy": "2022-04-12T16:41:39.528687Z",
     "iopub.status.idle": "2022-04-12T16:41:40.648189Z",
     "shell.execute_reply": "2022-04-12T16:41:40.647419Z"
    },
    "papermill": {
     "duration": 1.16382,
     "end_time": "2022-04-12T16:41:40.648376",
     "exception": false,
     "start_time": "2022-04-12T16:41:39.484556",
     "status": "completed"
    },
    "tags": []
   },
   "outputs": [
    {
     "data": {
      "image/png": "[encoded data removed]",
      "text/plain": [
       "<Figure size 1296x216 with 1 Axes>"
      ]
     },
     "metadata": {},
     "output_type": "display_data"
    }
   ],
   "source": [
    "# Distribusi total ronde permainan dalam skala logaritma\n",
    "\n",
    "sns.set(rc={'figure.figsize':(18,3)})\n",
    "ax=sns.boxplot(y = df.group, x = df.sum_gamerounds, orient=\"h\")\n",
    "ax.set_xscale('log')\n",
    "plt.title(\"Total Gamerounds by Group\", fontweight=\"bold\")\n",
    "plt.xlabel(\"Total Gamerounds in Logarithmic Scale\")\n",
    "plt.ylabel(\"Group\")\n",
    "plt.show()"
   ]
  },
  {
   "cell_type": "code",
   "execution_count": 62,
   "id": "4c52ca34",
   "metadata": {
    "execution": {
     "iopub.execute_input": "2022-04-12T16:41:40.729875Z",
     "iopub.status.busy": "2022-04-12T16:41:40.729164Z",
     "iopub.status.idle": "2022-04-12T16:41:40.743231Z",
     "shell.execute_reply": "2022-04-12T16:41:40.743758Z"
    },
    "papermill": {
     "duration": 0.057217,
     "end_time": "2022-04-12T16:41:40.743932",
     "exception": false,
     "start_time": "2022-04-12T16:41:40.686715",
     "status": "completed"
    },
    "tags": []
   },
   "outputs": [
    {
     "data": {
      "text/plain": [
       "57702    49854\n",
       "7912      2961\n",
       "29417     2640\n",
       "43671     2438\n",
       "48188     2294\n",
       "Name: sum_gamerounds, dtype: int64"
      ]
     },
     "execution_count": 62,
     "metadata": {},
     "output_type": "execute_result"
    }
   ],
   "source": [
    "# Observasi pencilan/outlier\n",
    "df.sum_gamerounds.sort_values(ascending = False).head()"
   ]
  },
  {
   "cell_type": "markdown",
   "id": "d52fd67d",
   "metadata": {
    "papermill": {
     "duration": 0.038065,
     "end_time": "2022-04-12T16:41:40.821262",
     "exception": false,
     "start_time": "2022-04-12T16:41:40.783197",
     "status": "completed"
    },
    "tags": []
   },
   "source": [
    "- **Ada satu pencilan yg sangat kentara pada index ke-57702 (yaitu 49,854 ronde)** "
   ]
  },
  {
   "cell_type": "code",
   "execution_count": 63,
   "id": "b5005c6a",
   "metadata": {
    "execution": {
     "iopub.execute_input": "2022-04-12T16:41:40.905389Z",
     "iopub.status.busy": "2022-04-12T16:41:40.904307Z",
     "iopub.status.idle": "2022-04-12T16:41:40.912732Z",
     "shell.execute_reply": "2022-04-12T16:41:40.913244Z"
    },
    "papermill": {
     "duration": 0.053713,
     "end_time": "2022-04-12T16:41:40.913449",
     "exception": false,
     "start_time": "2022-04-12T16:41:40.859736",
     "status": "completed"
    },
    "tags": []
   },
   "outputs": [],
   "source": [
    "# Hapus outlier\n",
    "\n",
    "df= df[df[\"sum_gamerounds\"] < 3000].reset_index()"
   ]
  },
  {
   "cell_type": "code",
   "execution_count": 64,
   "id": "d921ae28",
   "metadata": {
    "execution": {
     "iopub.execute_input": "2022-04-12T16:41:40.994572Z",
     "iopub.status.busy": "2022-04-12T16:41:40.993739Z",
     "iopub.status.idle": "2022-04-12T16:41:41.002282Z",
     "shell.execute_reply": "2022-04-12T16:41:41.002778Z"
    },
    "papermill": {
     "duration": 0.051153,
     "end_time": "2022-04-12T16:41:41.002969",
     "exception": false,
     "start_time": "2022-04-12T16:41:40.951816",
     "status": "completed"
    },
    "tags": []
   },
   "outputs": [
    {
     "data": {
      "text/plain": [
       "1    5538\n",
       "2    4606\n",
       "0    3994\n",
       "3    3958\n",
       "4    3629\n",
       "Name: sum_gamerounds, dtype: int64"
      ]
     },
     "execution_count": 64,
     "metadata": {},
     "output_type": "execute_result"
    }
   ],
   "source": [
    "# Cek total ronde permainan\n",
    "\n",
    "df.sum_gamerounds.value_counts().head()"
   ]
  },
  {
   "cell_type": "markdown",
   "id": "217b8e62",
   "metadata": {
    "papermill": {
     "duration": 0.041165,
     "end_time": "2022-04-12T16:41:41.083383",
     "exception": false,
     "start_time": "2022-04-12T16:41:41.042218",
     "status": "completed"
    },
    "tags": []
   },
   "source": [
    "- **3994 sudah menginstall aplikasinya namun tidak pernah bermain sekalipun. Kemungkinan:**  \n",
    "    - Aplikasinya crash atau keluar tiba-tiba  \n",
    "    - Mereka memang belum mulai bermain\n",
    "    - Mereka mengunduh game lain secara bersamaan dan lebih tertarik dengan yang lainnya"
   ]
  },
  {
   "cell_type": "code",
   "execution_count": 65,
   "id": "dbc8eedc",
   "metadata": {
    "execution": {
     "iopub.execute_input": "2022-04-12T16:41:41.171533Z",
     "iopub.status.busy": "2022-04-12T16:41:41.170838Z",
     "iopub.status.idle": "2022-04-12T16:41:41.181852Z",
     "shell.execute_reply": "2022-04-12T16:41:41.181163Z"
    },
    "papermill": {
     "duration": 0.057933,
     "end_time": "2022-04-12T16:41:41.182017",
     "exception": false,
     "start_time": "2022-04-12T16:41:41.124084",
     "status": "completed"
    },
    "tags": []
   },
   "outputs": [],
   "source": [
    "# Mereka yang tidak pernah bermain sebaiknya dihapus saja\n",
    "# karena akan mempengaruhi hasil analisis statistiknya\n",
    "\n",
    "df=df[df.sum_gamerounds != 0].reset_index()"
   ]
  },
  {
   "cell_type": "code",
   "execution_count": 66,
   "id": "c31c0070",
   "metadata": {
    "execution": {
     "iopub.execute_input": "2022-04-12T16:41:41.268314Z",
     "iopub.status.busy": "2022-04-12T16:41:41.267330Z",
     "iopub.status.idle": "2022-04-12T16:41:41.277746Z",
     "shell.execute_reply": "2022-04-12T16:41:41.277179Z"
    },
    "papermill": {
     "duration": 0.055365,
     "end_time": "2022-04-12T16:41:41.277895",
     "exception": false,
     "start_time": "2022-04-12T16:41:41.222530",
     "status": "completed"
    },
    "tags": []
   },
   "outputs": [
    {
     "data": {
      "text/plain": [
       "count    86194.000000\n",
       "mean        53.698297\n",
       "std        104.425174\n",
       "min          1.000000\n",
       "50%         18.000000\n",
       "95%        227.000000\n",
       "99%        499.000000\n",
       "max       2961.000000\n",
       "Name: sum_gamerounds, dtype: float64"
      ]
     },
     "execution_count": 66,
     "metadata": {},
     "output_type": "execute_result"
    }
   ],
   "source": [
    "# Statistika deskriptif dari dataset\n",
    "\n",
    "df[\"sum_gamerounds\"].describe([0.95,0.99])"
   ]
  },
  {
   "cell_type": "markdown",
   "id": "830847d4",
   "metadata": {
    "papermill": {
     "duration": 0.041282,
     "end_time": "2022-04-12T16:41:41.359156",
     "exception": false,
     "start_time": "2022-04-12T16:41:41.317874",
     "status": "completed"
    },
    "tags": []
   },
   "source": [
    "- **Setengah dari total pengguna pernah bermain sebanyak 18 kali atau kurang**"
   ]
  },
  {
   "cell_type": "code",
   "execution_count": 67,
   "id": "90b441c6",
   "metadata": {
    "execution": {
     "iopub.execute_input": "2022-04-12T16:41:41.448391Z",
     "iopub.status.busy": "2022-04-12T16:41:41.447552Z",
     "iopub.status.idle": "2022-04-12T16:41:42.701557Z",
     "shell.execute_reply": "2022-04-12T16:41:42.702281Z"
    },
    "papermill": {
     "duration": 1.303032,
     "end_time": "2022-04-12T16:41:42.702535",
     "exception": false,
     "start_time": "2022-04-12T16:41:41.399503",
     "status": "completed"
    },
    "tags": []
   },
   "outputs": [
    {
     "data": {
      "image/png": "[encoded data removed]",
      "text/plain": [
       "<Figure size 1296x720 with 1 Axes>"
      ]
     },
     "metadata": {},
     "output_type": "display_data"
    }
   ],
   "source": [
    "# 95% of players have played 227 times or less. Draw them\n",
    "\n",
    "sns.set(rc={'figure.figsize':(18,10)})\n",
    "sns.histplot(data=df[df.sum_gamerounds<228], x=\"sum_gamerounds\", kde=True,hue=\"group\",line_kws={\"lw\":3},bins=100)\n",
    "plt.title(\"The Distribution of Players\", fontweight=\"bold\")\n",
    "plt.xlabel(\"Total Gamerounds\")\n",
    "plt.ylabel(\"Number of Player\")\n",
    "plt.show()"
   ]
  },
  {
   "cell_type": "markdown",
   "id": "b4e0b484",
   "metadata": {
    "papermill": {
     "duration": 0.042108,
     "end_time": "2022-04-12T16:41:42.788084",
     "exception": false,
     "start_time": "2022-04-12T16:41:42.745976",
     "status": "completed"
    },
    "tags": []
   },
   "source": [
    "- **As the levels progress, the number of users decreases.   Possible reasons:**    \n",
    "    -Levels become boring and repetitive as they progress, possibly due to a lack of new mechanics or variation  \n",
    "    -After a certain point in the game, the level difficulty increases exponentially, to the point where the game becomes unplayable without an in-app purchase"
   ]
  },
  {
   "cell_type": "markdown",
   "id": "79cece37",
   "metadata": {
    "papermill": {
     "duration": 0.043476,
     "end_time": "2022-04-12T16:41:42.876092",
     "exception": false,
     "start_time": "2022-04-12T16:41:42.832616",
     "status": "completed"
    },
    "tags": []
   },
   "source": [
    "**Sample Ratio Mismatch**  \n",
    "\n",
    "\n",
    "SRM is defined as the mismatch between expected sample ratio and observed sample ratio.  \n",
    "For example in an A/B test with a 50/50 split, we expect the ratio between control and test sample groups to be 1.  \n",
    "If we end up observing a 40/60 split, we are far from the expected ratio of 1 and we have SRM. \n",
    "\n",
    "<img src=\"https://1xeqto1j2jdz1tjsywaminn1-wpengine.netdna-ssl.com/wp-content/uploads/2021/01/image2-1.png\" width=\"400\"/>\n",
    "\n",
    "*For more information:*  \n",
    "\n",
    "[Diagnosing Sample Ratio Mismatch in A/B Testing](https://www.microsoft.com/en-us/research/group/experimentation-platform-exp/articles/diagnosing-sample-ratio-mismatch-in-a-b-testing/)  \n",
    "[The essential guide to Sample Ratio Mismatch for your A/B tests](https://towardsdatascience.com/the-essential-guide-to-sample-ratio-mismatch-for-your-a-b-tests-96a4db81d7a4)  "
   ]
  },
  {
   "cell_type": "code",
   "execution_count": 68,
   "id": "022903e1",
   "metadata": {
    "execution": {
     "iopub.execute_input": "2022-04-12T16:41:42.964859Z",
     "iopub.status.busy": "2022-04-12T16:41:42.964140Z",
     "iopub.status.idle": "2022-04-12T16:41:42.971702Z",
     "shell.execute_reply": "2022-04-12T16:41:42.972261Z"
    },
    "papermill": {
     "duration": 0.052828,
     "end_time": "2022-04-12T16:41:42.972465",
     "exception": false,
     "start_time": "2022-04-12T16:41:42.919637",
     "status": "completed"
    },
    "tags": []
   },
   "outputs": [],
   "source": [
    "# Function to check Sample Ratio Mismatch\n",
    "\n",
    "def SRMcheck(df):\n",
    "    num_A = df[\"group\"].value_counts().loc[\"A\"]\n",
    "    num_B = df[\"group\"].value_counts().loc[\"B\"]\n",
    "\n",
    "    print(\"Number of players in group A (gate_30):\",num_A)\n",
    "    print(\"Number of players in group B (gate_40):\",num_B)\n",
    "    print(\"A/B ratio: {:.5f}\".format(num_A/num_B))\n",
    "    print(\"-\"*45)\n",
    "    \n",
    "    observed = [ num_A, num_B ]\n",
    "    total_player= sum(observed)\n",
    "    expected = [ total_player/2, total_player/2 ]\n",
    "\n",
    "    chi = chisquare(observed, f_exp=expected)\n",
    "    print(\"pvalue: {:.3f}\".format(chi[1]))\n",
    "    print(\"*\"*15)\n",
    "    if chi[1] < 0.01:\n",
    "        print('SRM may be present.')\n",
    "    else:\n",
    "        print('Probably no SRM.')"
   ]
  },
  {
   "cell_type": "code",
   "execution_count": 69,
   "id": "55c0401b",
   "metadata": {
    "execution": {
     "iopub.execute_input": "2022-04-12T16:41:43.063026Z",
     "iopub.status.busy": "2022-04-12T16:41:43.062267Z",
     "iopub.status.idle": "2022-04-12T16:41:43.072085Z",
     "shell.execute_reply": "2022-04-12T16:41:43.072661Z"
    },
    "papermill": {
     "duration": 0.057261,
     "end_time": "2022-04-12T16:41:43.072845",
     "exception": false,
     "start_time": "2022-04-12T16:41:43.015584",
     "status": "completed"
    },
    "tags": []
   },
   "outputs": [
    {
     "name": "stdout",
     "output_type": "stream",
     "text": [
      "Number of players in group A (gate_30): 42762\n",
      "Number of players in group B (gate_40): 43432\n",
      "A/B ratio: 0.98457\n",
      "---------------------------------------------\n",
      "pvalue: 0.022\n",
      "***************\n",
      "Probably no SRM.\n"
     ]
    }
   ],
   "source": [
    "# Check SRM\n",
    "\n",
    "SRMcheck(df)"
   ]
  },
  {
   "cell_type": "markdown",
   "id": "03eb2b6a",
   "metadata": {
    "papermill": {
     "duration": 0.04188,
     "end_time": "2022-04-12T16:41:43.157926",
     "exception": false,
     "start_time": "2022-04-12T16:41:43.116046",
     "status": "completed"
    },
    "tags": []
   },
   "source": [
    "### A/B TESTING for Game Rounds"
   ]
  },
  {
   "cell_type": "code",
   "execution_count": 70,
   "id": "bfe8d4af",
   "metadata": {
    "execution": {
     "iopub.execute_input": "2022-04-12T16:41:43.246024Z",
     "iopub.status.busy": "2022-04-12T16:41:43.245318Z",
     "iopub.status.idle": "2022-04-12T16:41:43.262891Z",
     "shell.execute_reply": "2022-04-12T16:41:43.263509Z"
    },
    "papermill": {
     "duration": 0.063656,
     "end_time": "2022-04-12T16:41:43.263691",
     "exception": false,
     "start_time": "2022-04-12T16:41:43.200035",
     "status": "completed"
    },
    "tags": []
   },
   "outputs": [
    {
     "data": {
      "text/html": [
       "<div>\n",
       "<style scoped>\n",
       "    .dataframe tbody tr th:only-of-type {\n",
       "        vertical-align: middle;\n",
       "    }\n",
       "\n",
       "    .dataframe tbody tr th {\n",
       "        vertical-align: top;\n",
       "    }\n",
       "\n",
       "    .dataframe thead th {\n",
       "        text-align: right;\n",
       "    }\n",
       "</style>\n",
       "<table border=\"1\" class=\"dataframe\">\n",
       "  <thead>\n",
       "    <tr style=\"text-align: right;\">\n",
       "      <th></th>\n",
       "      <th>sum</th>\n",
       "      <th>mean</th>\n",
       "      <th>median</th>\n",
       "    </tr>\n",
       "    <tr>\n",
       "      <th>group</th>\n",
       "      <th></th>\n",
       "      <th></th>\n",
       "      <th></th>\n",
       "    </tr>\n",
       "  </thead>\n",
       "  <tbody>\n",
       "    <tr>\n",
       "      <th>A</th>\n",
       "      <td>2294941</td>\n",
       "      <td>53.667766</td>\n",
       "      <td>18</td>\n",
       "    </tr>\n",
       "    <tr>\n",
       "      <th>B</th>\n",
       "      <td>2333530</td>\n",
       "      <td>53.728357</td>\n",
       "      <td>18</td>\n",
       "    </tr>\n",
       "  </tbody>\n",
       "</table>\n",
       "</div>"
      ],
      "text/plain": [
       "           sum       mean  median\n",
       "group                            \n",
       "A      2294941  53.667766      18\n",
       "B      2333530  53.728357      18"
      ]
     },
     "execution_count": 70,
     "metadata": {},
     "output_type": "execute_result"
    }
   ],
   "source": [
    "# Describe sum_gamerounds\n",
    "\n",
    "df.groupby(\"group\").sum_gamerounds.agg([\"sum\",\"mean\",\"median\"])"
   ]
  },
  {
   "cell_type": "markdown",
   "id": "e311587c",
   "metadata": {
    "papermill": {
     "duration": 0.04534,
     "end_time": "2022-04-12T16:41:43.353190",
     "exception": false,
     "start_time": "2022-04-12T16:41:43.307850",
     "status": "completed"
    },
    "tags": []
   },
   "source": [
    "- **The medians of both groups are the same**  \n",
    "- **The total number of games and means are slightly higher for group B**"
   ]
  },
  {
   "cell_type": "code",
   "execution_count": 71,
   "id": "40d61c52",
   "metadata": {
    "execution": {
     "iopub.execute_input": "2022-04-12T16:41:43.445544Z",
     "iopub.status.busy": "2022-04-12T16:41:43.444831Z",
     "iopub.status.idle": "2022-04-12T16:41:43.471196Z",
     "shell.execute_reply": "2022-04-12T16:41:43.471769Z"
    },
    "papermill": {
     "duration": 0.075748,
     "end_time": "2022-04-12T16:41:43.471948",
     "exception": false,
     "start_time": "2022-04-12T16:41:43.396200",
     "status": "completed"
    },
    "tags": []
   },
   "outputs": [
    {
     "name": "stdout",
     "output_type": "stream",
     "text": [
      "Group B played a total of 1.68% more games than group A\n"
     ]
    }
   ],
   "source": [
    "# Check gamerounds difference\n",
    "\n",
    "sum_difference= round(100*(df.query(\"group=='B'\").sum_gamerounds.sum() - df.query(\"group=='A'\").sum_gamerounds.sum()) \n",
    "      / df.query(\"group=='A'\").sum_gamerounds.sum(), 2)\n",
    "print(\"Group B played a total of {}% more games than group A\".format(sum_difference))"
   ]
  },
  {
   "cell_type": "markdown",
   "id": "161a2758",
   "metadata": {
    "papermill": {
     "duration": 0.043901,
     "end_time": "2022-04-12T16:41:43.561665",
     "exception": false,
     "start_time": "2022-04-12T16:41:43.517764",
     "status": "completed"
    },
    "tags": []
   },
   "source": [
    "**Data Distribution** \n",
    "\n",
    "All statistical tests can be divided into two main groups: **parametric** and **non-parametric**  \n",
    " \n",
    "- **Parametric tests** are used only when a normal (or close to normal) distribution is assumed. The most commonly used tests are **Z-test**, **T-test**, and **ANOVA**  \n",
    "- **Non-parametric tests** are used when continuous data is not normally distributed or when data is discrete. The most commonly used tests are **chi-squared**, **Fisher’s exact tests** and **Mann–Whitney U-test**"
   ]
  },
  {
   "cell_type": "code",
   "execution_count": 72,
   "id": "02bca38c",
   "metadata": {
    "execution": {
     "iopub.execute_input": "2022-04-12T16:41:43.658819Z",
     "iopub.status.busy": "2022-04-12T16:41:43.658044Z",
     "iopub.status.idle": "2022-04-12T16:41:43.664095Z",
     "shell.execute_reply": "2022-04-12T16:41:43.664701Z"
    },
    "papermill": {
     "duration": 0.059386,
     "end_time": "2022-04-12T16:41:43.664885",
     "exception": false,
     "start_time": "2022-04-12T16:41:43.605499",
     "status": "completed"
    },
    "tags": []
   },
   "outputs": [],
   "source": [
    "# Function to check normality (Q-Q plot and Shapiro–Wilk test)\n",
    "\n",
    "def checkNormality(df):\n",
    "    sns.set(rc={'figure.figsize':(5,5)})\n",
    "    sm.qqplot(df, line='45', fit=True)\n",
    "    plt.show()\n",
    "\n",
    "    _ , p= shapiro(df)\n",
    "    alpha = 0.05\n",
    "    print(f\"p={p}\")\n",
    "    if p > alpha:\n",
    "        print('Sample a normal distribution')\n",
    "    else:\n",
    "        print('Sample is not a normal distribution')"
   ]
  },
  {
   "cell_type": "code",
   "execution_count": 73,
   "id": "f51d15e3",
   "metadata": {
    "execution": {
     "iopub.execute_input": "2022-04-12T16:41:43.757896Z",
     "iopub.status.busy": "2022-04-12T16:41:43.757157Z",
     "iopub.status.idle": "2022-04-12T16:41:44.165423Z",
     "shell.execute_reply": "2022-04-12T16:41:44.164862Z"
    },
    "papermill": {
     "duration": 0.456015,
     "end_time": "2022-04-12T16:41:44.165574",
     "exception": false,
     "start_time": "2022-04-12T16:41:43.709559",
     "status": "completed"
    },
    "tags": []
   },
   "outputs": [
    {
     "data": {
      "image/png": "[encoded data removed]",
      "text/plain": [
       "<Figure size 360x360 with 1 Axes>"
      ]
     },
     "metadata": {},
     "output_type": "display_data"
    },
    {
     "name": "stdout",
     "output_type": "stream",
     "text": [
      "p=0.0\n",
      "Sample is not a normal distribution\n"
     ]
    }
   ],
   "source": [
    "# Check normality for sum_gamerounds\n",
    "\n",
    "checkNormality(df.sum_gamerounds)"
   ]
  },
  {
   "cell_type": "markdown",
   "id": "ea040de4",
   "metadata": {
    "papermill": {
     "duration": 0.044735,
     "end_time": "2022-04-12T16:41:44.255913",
     "exception": false,
     "start_time": "2022-04-12T16:41:44.211178",
     "status": "completed"
    },
    "tags": []
   },
   "source": [
    "- **Non-Parametric Test should be used since the sample is not normally distributed**"
   ]
  },
  {
   "cell_type": "markdown",
   "id": "e2479b65",
   "metadata": {
    "papermill": {
     "duration": 0.044841,
     "end_time": "2022-04-12T16:41:44.345838",
     "exception": false,
     "start_time": "2022-04-12T16:41:44.300997",
     "status": "completed"
    },
    "tags": []
   },
   "source": [
    "**Bootstrapping**  \n",
    "\n",
    "Bootstrapping is any test or metric that uses random sampling with replacement (e.g. mimicking the sampling process), and falls under the broader class of resampling methods.Let's find these numbers by bootstrapping to get a precise data.  \n",
    "*For more information:* [Bootstrapping](https://en.wikipedia.org/wiki/Bootstrapping_(statistics))"
   ]
  },
  {
   "cell_type": "code",
   "execution_count": 74,
   "id": "a2ec9b87",
   "metadata": {
    "execution": {
     "iopub.execute_input": "2022-04-12T16:41:44.439801Z",
     "iopub.status.busy": "2022-04-12T16:41:44.439126Z",
     "iopub.status.idle": "2022-04-12T16:41:58.609132Z",
     "shell.execute_reply": "2022-04-12T16:41:58.609662Z"
    },
    "papermill": {
     "duration": 14.218839,
     "end_time": "2022-04-12T16:41:58.609876",
     "exception": false,
     "start_time": "2022-04-12T16:41:44.391037",
     "status": "completed"
    },
    "tags": []
   },
   "outputs": [
    {
     "data": {
      "image/png": "[encoded data removed]",
      "text/plain": [
       "<Figure size 360x360 with 1 Axes>"
      ]
     },
     "metadata": {},
     "output_type": "display_data"
    }
   ],
   "source": [
    "# Bootstraping - Create 2000 samples of dataset\n",
    "\n",
    "bootstrap_sum=pd.DataFrame([df.sample(frac=1, replace=True).groupby('group')['sum_gamerounds'].mean() for i in range(2000)])\n",
    "\n",
    "bootstrap_sum.plot.kde()\n",
    "sns.set(rc={'figure.figsize':(18,5)})\n",
    "plt.title(\"KDE Plot of the Gamerounds' bootstrap distributions\", fontweight=\"bold\")\n",
    "plt.xlabel(\"Game rounds\")\n",
    "plt.show()"
   ]
  },
  {
   "cell_type": "markdown",
   "id": "e896c86b",
   "metadata": {
    "papermill": {
     "duration": 0.047613,
     "end_time": "2022-04-12T16:41:58.705698",
     "exception": false,
     "start_time": "2022-04-12T16:41:58.658085",
     "status": "completed"
    },
    "tags": []
   },
   "source": [
    "**H0 (Null hypothesis)       :** Changing the gate level has no impact on sum_gamerounds  \n",
    "**H1 (Alternative hypothesis):** Changing the gate level has an impact on sum_gamerounds"
   ]
  },
  {
   "cell_type": "code",
   "execution_count": 75,
   "id": "abb2bd06",
   "metadata": {
    "execution": {
     "iopub.execute_input": "2022-04-12T16:41:58.808637Z",
     "iopub.status.busy": "2022-04-12T16:41:58.807667Z",
     "iopub.status.idle": "2022-04-12T16:41:58.809638Z",
     "shell.execute_reply": "2022-04-12T16:41:58.810369Z"
    },
    "papermill": {
     "duration": 0.05577,
     "end_time": "2022-04-12T16:41:58.810608",
     "exception": false,
     "start_time": "2022-04-12T16:41:58.754838",
     "status": "completed"
    },
    "tags": []
   },
   "outputs": [],
   "source": [
    "# Function for Mann-Whitney U Test\n",
    "\n",
    "def mannwhitneyfunc(value1,value2):\n",
    "\n",
    "    stat, p=mannwhitneyu(sum_gamerounds1, sum_gamerounds2)\n",
    "\n",
    "    alpha=0.05 \n",
    "\n",
    "    print('p=%.4f , alpha=%.2f '%(p,alpha))\n",
    "    if p > alpha:\n",
    "        print('Two groups have no significant difference')\n",
    "    else:\n",
    "        print('Two groups have a significant difference')"
   ]
  },
  {
   "cell_type": "code",
   "execution_count": 76,
   "id": "f85c45af",
   "metadata": {
    "execution": {
     "iopub.execute_input": "2022-04-12T16:41:58.914393Z",
     "iopub.status.busy": "2022-04-12T16:41:58.913570Z",
     "iopub.status.idle": "2022-04-12T16:41:59.013735Z",
     "shell.execute_reply": "2022-04-12T16:41:59.014239Z"
    },
    "papermill": {
     "duration": 0.151402,
     "end_time": "2022-04-12T16:41:59.014456",
     "exception": false,
     "start_time": "2022-04-12T16:41:58.863054",
     "status": "completed"
    },
    "tags": []
   },
   "outputs": [
    {
     "name": "stdout",
     "output_type": "stream",
     "text": [
      "p=0.0588 , alpha=0.05 \n",
      "Two groups have no significant difference\n"
     ]
    }
   ],
   "source": [
    "#Mann-Whitney U Test for sum_gamerounds\n",
    "\n",
    "sum_gamerounds1 = df[df.group=='A'].sum_gamerounds\n",
    "sum_gamerounds2 = df[df.group=='B'].sum_gamerounds\n",
    "\n",
    "mannwhitneyfunc(sum_gamerounds1,sum_gamerounds2)"
   ]
  },
  {
   "cell_type": "markdown",
   "id": "70ae89e9",
   "metadata": {
    "papermill": {
     "duration": 0.047438,
     "end_time": "2022-04-12T16:41:59.114515",
     "exception": false,
     "start_time": "2022-04-12T16:41:59.067077",
     "status": "completed"
    },
    "tags": []
   },
   "source": [
    "- **No statistically significant difference between groups. They have similar sum_gamerounds.**"
   ]
  },
  {
   "cell_type": "markdown",
   "id": "c017effa",
   "metadata": {
    "papermill": {
     "duration": 0.047097,
     "end_time": "2022-04-12T16:41:59.213171",
     "exception": false,
     "start_time": "2022-04-12T16:41:59.166074",
     "status": "completed"
    },
    "tags": []
   },
   "source": [
    "### A/B TESTING for Retention Rates"
   ]
  },
  {
   "cell_type": "markdown",
   "id": "423f86f5",
   "metadata": {
    "papermill": {
     "duration": 0.047309,
     "end_time": "2022-04-12T16:41:59.308091",
     "exception": false,
     "start_time": "2022-04-12T16:41:59.260782",
     "status": "completed"
    },
    "tags": []
   },
   "source": [
    "**H0 (Null hypothesis)       :** Changing the gate level has no impact on retention rate  \n",
    "**H1 (Alternative hypothesis):** Changing the gate level has an impact on retention rate"
   ]
  },
  {
   "cell_type": "code",
   "execution_count": 77,
   "id": "737babbb",
   "metadata": {
    "execution": {
     "iopub.execute_input": "2022-04-12T16:41:59.409868Z",
     "iopub.status.busy": "2022-04-12T16:41:59.408810Z",
     "iopub.status.idle": "2022-04-12T16:41:59.423044Z",
     "shell.execute_reply": "2022-04-12T16:41:59.422249Z"
    },
    "papermill": {
     "duration": 0.067281,
     "end_time": "2022-04-12T16:41:59.423213",
     "exception": false,
     "start_time": "2022-04-12T16:41:59.355932",
     "status": "completed"
    },
    "tags": []
   },
   "outputs": [
    {
     "data": {
      "text/html": [
       "<div>\n",
       "<style scoped>\n",
       "    .dataframe tbody tr th:only-of-type {\n",
       "        vertical-align: middle;\n",
       "    }\n",
       "\n",
       "    .dataframe tbody tr th {\n",
       "        vertical-align: top;\n",
       "    }\n",
       "\n",
       "    .dataframe thead th {\n",
       "        text-align: right;\n",
       "    }\n",
       "</style>\n",
       "<table border=\"1\" class=\"dataframe\">\n",
       "  <thead>\n",
       "    <tr style=\"text-align: right;\">\n",
       "      <th></th>\n",
       "      <th>retention_1</th>\n",
       "      <th>retention_7</th>\n",
       "    </tr>\n",
       "    <tr>\n",
       "      <th>group</th>\n",
       "      <th></th>\n",
       "      <th></th>\n",
       "    </tr>\n",
       "  </thead>\n",
       "  <tbody>\n",
       "    <tr>\n",
       "      <th>A</th>\n",
       "      <td>0.467541</td>\n",
       "      <td>0.198424</td>\n",
       "    </tr>\n",
       "    <tr>\n",
       "      <th>B</th>\n",
       "      <td>0.462171</td>\n",
       "      <td>0.190321</td>\n",
       "    </tr>\n",
       "  </tbody>\n",
       "</table>\n",
       "</div>"
      ],
      "text/plain": [
       "       retention_1  retention_7\n",
       "group                          \n",
       "A         0.467541     0.198424\n",
       "B         0.462171     0.190321"
      ]
     },
     "execution_count": 77,
     "metadata": {},
     "output_type": "execute_result"
    }
   ],
   "source": [
    "# Retention rate by groups\n",
    "\n",
    "retention_rate = df.groupby(\"group\").agg({\"retention_1\":\"mean\",\"retention_7\":\"mean\"})\n",
    "retention_rate"
   ]
  },
  {
   "cell_type": "markdown",
   "id": "36d0be2a",
   "metadata": {
    "papermill": {
     "duration": 0.048247,
     "end_time": "2022-04-12T16:41:59.521125",
     "exception": false,
     "start_time": "2022-04-12T16:41:59.472878",
     "status": "completed"
    },
    "tags": []
   },
   "source": [
    "- **Both retention_1 and retention_7 are slightly higher for group A**"
   ]
  },
  {
   "cell_type": "code",
   "execution_count": 78,
   "id": "94078b62",
   "metadata": {
    "execution": {
     "iopub.execute_input": "2022-04-12T16:41:59.624201Z",
     "iopub.status.busy": "2022-04-12T16:41:59.623366Z",
     "iopub.status.idle": "2022-04-12T16:42:14.022674Z",
     "shell.execute_reply": "2022-04-12T16:42:14.022137Z"
    },
    "papermill": {
     "duration": 14.45253,
     "end_time": "2022-04-12T16:42:14.022818",
     "exception": false,
     "start_time": "2022-04-12T16:41:59.570288",
     "status": "completed"
    },
    "tags": []
   },
   "outputs": [
    {
     "data": {
      "image/png": "[encoded data removed]",
      "text/plain": [
       "<Figure size 1296x360 with 1 Axes>"
      ]
     },
     "metadata": {},
     "output_type": "display_data"
    }
   ],
   "source": [
    "# Bootstraping - Create 2000 samples of dataset for retention_1 \n",
    "\n",
    "bootstrap_retention1=pd.DataFrame([df.sample(frac=1, replace=True).groupby('group')['retention_1'].mean() for i in range(2000)])\n",
    "\n",
    "bootstrap_retention1.plot.kde()\n",
    "sns.set(rc={'figure.figsize':(18,5)})\n",
    "plt.title(\"KDE Plot of the 1 day retention's bootstrap distributions\", fontweight=\"bold\")\n",
    "plt.xlabel(\"Retention rate\")\n",
    "plt.show()"
   ]
  },
  {
   "cell_type": "code",
   "execution_count": 79,
   "id": "7deb3499",
   "metadata": {
    "execution": {
     "iopub.execute_input": "2022-04-12T16:42:14.135076Z",
     "iopub.status.busy": "2022-04-12T16:42:14.131393Z",
     "iopub.status.idle": "2022-04-12T16:42:28.483719Z",
     "shell.execute_reply": "2022-04-12T16:42:28.484230Z"
    },
    "papermill": {
     "duration": 14.41062,
     "end_time": "2022-04-12T16:42:28.484442",
     "exception": false,
     "start_time": "2022-04-12T16:42:14.073822",
     "status": "completed"
    },
    "tags": []
   },
   "outputs": [
    {
     "data": {
      "image/png": "[encoded data removed]",
      "text/plain": [
       "<Figure size 1296x360 with 1 Axes>"
      ]
     },
     "metadata": {},
     "output_type": "display_data"
    }
   ],
   "source": [
    "# Bootstraping - Create 2000 samples of dataset for retention_7\n",
    "\n",
    "bootstrap_retention7=pd.DataFrame([df.sample(frac=1, replace=True).groupby('group')['retention_7'].mean() for i in range(2000)])\n",
    "\n",
    "bootstrap_retention7.plot.kde()\n",
    "sns.set(rc={'figure.figsize':(18,5)})\n",
    "plt.title(\"KDE Plot of the 7 day retention's bootstrap distributions\", fontweight=\"bold\")\n",
    "plt.xlabel(\"Retention rate\")\n",
    "plt.show()"
   ]
  },
  {
   "cell_type": "code",
   "execution_count": 80,
   "id": "84eb6591",
   "metadata": {
    "execution": {
     "iopub.execute_input": "2022-04-12T16:42:28.593413Z",
     "iopub.status.busy": "2022-04-12T16:42:28.592635Z",
     "iopub.status.idle": "2022-04-12T16:42:28.597598Z",
     "shell.execute_reply": "2022-04-12T16:42:28.598130Z"
    },
    "papermill": {
     "duration": 0.060632,
     "end_time": "2022-04-12T16:42:28.598311",
     "exception": false,
     "start_time": "2022-04-12T16:42:28.537679",
     "status": "completed"
    },
    "tags": []
   },
   "outputs": [],
   "source": [
    "# Function for Chi-square test of independence of variables in a contingency table\n",
    "\n",
    "def chi2test(data):\n",
    "    _, p, _, _ = chi2_contingency(data)\n",
    "    alpha = 0.05\n",
    "\n",
    "    print('p=%.4f , alpha=%.2f '%(p,alpha))\n",
    "    if p > alpha:\n",
    "        print('Two groups have no significant difference')\n",
    "    else:\n",
    "        print('Two groups have a significant difference')"
   ]
  },
  {
   "cell_type": "code",
   "execution_count": 81,
   "id": "5a7e7411",
   "metadata": {
    "execution": {
     "iopub.execute_input": "2022-04-12T16:42:28.708875Z",
     "iopub.status.busy": "2022-04-12T16:42:28.708059Z",
     "iopub.status.idle": "2022-04-12T16:42:28.736362Z",
     "shell.execute_reply": "2022-04-12T16:42:28.736923Z"
    },
    "papermill": {
     "duration": 0.084952,
     "end_time": "2022-04-12T16:42:28.737099",
     "exception": false,
     "start_time": "2022-04-12T16:42:28.652147",
     "status": "completed"
    },
    "tags": []
   },
   "outputs": [
    {
     "name": "stdout",
     "output_type": "stream",
     "text": [
      "p=0.1155 , alpha=0.05 \n",
      "Two groups have no significant difference\n"
     ]
    }
   ],
   "source": [
    "#Chi-square test for retention_1 \n",
    "cross1 = pd.crosstab(df[\"group\"], df[\"retention_1\"])\n",
    "chi2test(cross1)"
   ]
  },
  {
   "cell_type": "code",
   "execution_count": 82,
   "id": "77d30f60",
   "metadata": {
    "execution": {
     "iopub.execute_input": "2022-04-12T16:42:28.851605Z",
     "iopub.status.busy": "2022-04-12T16:42:28.850697Z",
     "iopub.status.idle": "2022-04-12T16:42:28.873067Z",
     "shell.execute_reply": "2022-04-12T16:42:28.874208Z"
    },
    "papermill": {
     "duration": 0.080778,
     "end_time": "2022-04-12T16:42:28.874496",
     "exception": false,
     "start_time": "2022-04-12T16:42:28.793718",
     "status": "completed"
    },
    "tags": []
   },
   "outputs": [
    {
     "name": "stdout",
     "output_type": "stream",
     "text": [
      "p=0.0027 , alpha=0.05 \n",
      "Two groups have a significant difference\n"
     ]
    }
   ],
   "source": [
    "#Chi-square test for retention_7\n",
    "\n",
    "cross7 = pd.crosstab(df[\"group\"], df[\"retention_7\"])\n",
    "chi2test(cross7)"
   ]
  },
  {
   "cell_type": "markdown",
   "id": "5499f9e2",
   "metadata": {
    "papermill": {
     "duration": 0.053198,
     "end_time": "2022-04-12T16:42:28.982439",
     "exception": false,
     "start_time": "2022-04-12T16:42:28.929241",
     "status": "completed"
    },
    "tags": []
   },
   "source": [
    "### Conclusion\n",
    "\n",
    "- We discovered that the total number of game rounds in group B is slightly higher than the number of game rounds in group A. \n",
    "But the Mann-Whitney U Test shows that there is no statistically significant difference between the groups. So, we can say that **changing the gate of the game from level 30 to level 40 has no effect on the game rounds played by the users.**\n",
    "\n",
    "- We observed that retention rates were slightly higher in group A. According to the chi-square test, the 1-day user retention rates are not statistically different, but the 7-day user retention rate is higher in Group A. So, we can say that **changing the gate of the game from level 30 to level 40 has negative effect on the 7-day user retention rate.**  \n",
    "\n",
    "Possible reason why the retention is higher when the door is positioned earlier: [Hedonic treadmill](https://en.wikipedia.org/wiki/Hedonic_treadmill)  \n",
    "- In a nutshell, hedonic treadmill refers to people's tendency to get less and less enjoyment from a fun activity over time if they do it repeatedly. Players' enjoyment of the game is extended by forcing them to take a break when they reach a gate. When the gate is raised to level 40, however, fewer players make it that far, and they are more likely to stop playing the game due to boredom.\n",
    "\n",
    "\n",
    "### <center>It is better to keep the door at level 30</center>"
   ]
  }
 ],
 "metadata": {
  "kernelspec": {
   "display_name": "Python 3 (ipykernel)",
   "language": "python",
   "name": "python3"
  },
  "language_info": {
   "codemirror_mode": {
    "name": "ipython",
    "version": 3
   },
   "file_extension": ".py",
   "mimetype": "text/x-python",
   "name": "python",
   "nbconvert_exporter": "python",
   "pygments_lexer": "ipython3",
   "version": "3.9.5"
  },
  "papermill": {
   "default_parameters": {},
   "duration": 64.032397,
   "end_time": "2022-04-12T16:42:29.848254",
   "environment_variables": {},
   "exception": null,
   "input_path": "__notebook__.ipynb",
   "output_path": "__notebook__.ipynb",
   "parameters": {},
   "start_time": "2022-04-12T16:41:25.815857",
   "version": "2.3.3"
  }
 },
 "nbformat": 4,
 "nbformat_minor": 5
}
